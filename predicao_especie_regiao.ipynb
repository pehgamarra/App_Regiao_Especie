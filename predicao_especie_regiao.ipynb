{
 "cells": [
  {
   "cell_type": "markdown",
   "id": "474a05c7",
   "metadata": {},
   "source": [
    "# Imports"
   ]
  },
  {
   "cell_type": "code",
   "execution_count": null,
   "id": "6def1fb6",
   "metadata": {},
   "outputs": [],
   "source": [
    "import torch\n",
    "import torch.nn as nn\n",
    "from transformers import ViTModel, ViTFeatureExtractor\n",
    "import joblib\n",
    "from PIL import Image\n",
    "from torchvision import transforms"
   ]
  },
  {
   "cell_type": "markdown",
   "id": "1514f1c0",
   "metadata": {},
   "source": [
    "# Define a classe do modelo"
   ]
  },
  {
   "cell_type": "code",
   "execution_count": null,
   "id": "7810d066",
   "metadata": {},
   "outputs": [
    {
     "name": "stderr",
     "output_type": "stream",
     "text": [
      "c:\\Users\\usuario\\miniconda3\\Lib\\site-packages\\tqdm\\auto.py:21: TqdmWarning: IProgress not found. Please update jupyter and ipywidgets. See https://ipywidgets.readthedocs.io/en/stable/user_install.html\n",
      "  from .autonotebook import tqdm as notebook_tqdm\n"
     ]
    }
   ],
   "source": [
    "class ViTMultilabel(nn.Module):\n",
    "    def __init__(self, num_regioes, num_especies):\n",
    "        super(ViTMultilabel, self).__init__()\n",
    "        self.vit = ViTModel.from_pretrained('google/vit-base-patch16-224')\n",
    "        hidden_size = self.vit.config.hidden_size\n",
    "        self.classifier_regiao = nn.Linear(hidden_size, num_regioes)\n",
    "        self.classifier_especie = nn.Linear(hidden_size, num_especies)\n",
    "    \n",
    "    def forward(self, x):\n",
    "        batch_size, n_imgs, C, H, W = x.shape\n",
    "        x = x.view(-1, C, H, W)\n",
    "        outputs = self.vit(pixel_values=x)\n",
    "        pooled_output = outputs.pooler_output\n",
    "        pooled_output = pooled_output.view(batch_size, n_imgs, -1)\n",
    "        agg_output = pooled_output.mean(dim=1)\n",
    "        regiao_logits = self.classifier_regiao(agg_output)\n",
    "        especie_logits = self.classifier_especie(agg_output)\n",
    "        return regiao_logits, especie_logits\n"
   ]
  },
  {
   "cell_type": "markdown",
   "id": "0a2a374a",
   "metadata": {},
   "source": [
    "# Carrega os encoders"
   ]
  },
  {
   "cell_type": "code",
   "execution_count": null,
   "id": "3c279129",
   "metadata": {},
   "outputs": [],
   "source": [
    "le_regiao = joblib.load('le_regiao.pkl')\n",
    "le_especie = joblib.load('le_especie.pkl')"
   ]
  },
  {
   "cell_type": "markdown",
   "id": "60a305a4",
   "metadata": {},
   "source": [
    "# Instancia e carrega o modelo\n"
   ]
  },
  {
   "cell_type": "code",
   "execution_count": null,
   "id": "3eae904c",
   "metadata": {},
   "outputs": [
    {
     "name": "stderr",
     "output_type": "stream",
     "text": [
      "Some weights of ViTModel were not initialized from the model checkpoint at google/vit-base-patch16-224 and are newly initialized: ['pooler.dense.bias', 'pooler.dense.weight']\n",
      "You should probably TRAIN this model on a down-stream task to be able to use it for predictions and inference.\n"
     ]
    },
    {
     "data": {
      "text/plain": [
       "ViTMultilabel(\n",
       "  (vit): ViTModel(\n",
       "    (embeddings): ViTEmbeddings(\n",
       "      (patch_embeddings): ViTPatchEmbeddings(\n",
       "        (projection): Conv2d(3, 768, kernel_size=(16, 16), stride=(16, 16))\n",
       "      )\n",
       "      (dropout): Dropout(p=0.0, inplace=False)\n",
       "    )\n",
       "    (encoder): ViTEncoder(\n",
       "      (layer): ModuleList(\n",
       "        (0-11): 12 x ViTLayer(\n",
       "          (attention): ViTAttention(\n",
       "            (attention): ViTSelfAttention(\n",
       "              (query): Linear(in_features=768, out_features=768, bias=True)\n",
       "              (key): Linear(in_features=768, out_features=768, bias=True)\n",
       "              (value): Linear(in_features=768, out_features=768, bias=True)\n",
       "            )\n",
       "            (output): ViTSelfOutput(\n",
       "              (dense): Linear(in_features=768, out_features=768, bias=True)\n",
       "              (dropout): Dropout(p=0.0, inplace=False)\n",
       "            )\n",
       "          )\n",
       "          (intermediate): ViTIntermediate(\n",
       "            (dense): Linear(in_features=768, out_features=3072, bias=True)\n",
       "            (intermediate_act_fn): GELUActivation()\n",
       "          )\n",
       "          (output): ViTOutput(\n",
       "            (dense): Linear(in_features=3072, out_features=768, bias=True)\n",
       "            (dropout): Dropout(p=0.0, inplace=False)\n",
       "          )\n",
       "          (layernorm_before): LayerNorm((768,), eps=1e-12, elementwise_affine=True)\n",
       "          (layernorm_after): LayerNorm((768,), eps=1e-12, elementwise_affine=True)\n",
       "        )\n",
       "      )\n",
       "    )\n",
       "    (layernorm): LayerNorm((768,), eps=1e-12, elementwise_affine=True)\n",
       "    (pooler): ViTPooler(\n",
       "      (dense): Linear(in_features=768, out_features=768, bias=True)\n",
       "      (activation): Tanh()\n",
       "    )\n",
       "  )\n",
       "  (classifier_regiao): Linear(in_features=768, out_features=7, bias=True)\n",
       "  (classifier_especie): Linear(in_features=768, out_features=7, bias=True)\n",
       ")"
      ]
     },
     "execution_count": 2,
     "metadata": {},
     "output_type": "execute_result"
    }
   ],
   "source": [
    "model = ViTMultilabel(\n",
    "    num_regioes=len(le_regiao.classes_), \n",
    "    num_especies=len(le_especie.classes_)\n",
    ")\n",
    "\n",
    "model.load_state_dict(torch.load('vit_multilabel_model.pth'))\n",
    "model.eval()\n"
   ]
  },
  {
   "cell_type": "markdown",
   "id": "c22d1fac",
   "metadata": {},
   "source": [
    "# Testando a previsão"
   ]
  },
  {
   "cell_type": "markdown",
   "id": "38b6358c",
   "metadata": {},
   "source": [
    "Setup\n"
   ]
  },
  {
   "cell_type": "code",
   "execution_count": null,
   "id": "011a4c73",
   "metadata": {},
   "outputs": [],
   "source": [
    "device = torch.device('cuda' if torch.cuda.is_available() else 'cpu')\n",
    "model = model.to(device)\n",
    "feature_extractor = ViTFeatureExtractor.from_pretrained('google/vit-base-patch16-224')"
   ]
  },
  {
   "cell_type": "markdown",
   "id": "658c18a1",
   "metadata": {},
   "source": [
    "Carrega e prepara a imagem\n"
   ]
  },
  {
   "cell_type": "code",
   "execution_count": null,
   "id": "a839bfa2",
   "metadata": {},
   "outputs": [],
   "source": [
    "# Caminho da imagem nova\n",
    "image_path = r'' \n",
    "\n",
    "image = Image.open(image_path).convert('RGB')\n",
    "inputs = feature_extractor(images=image, return_tensors=\"pt\")\n",
    "pixel_values = inputs['pixel_values'] \n",
    "pixel_values = pixel_values.unsqueeze(1) \n",
    "pixel_values = pixel_values.to(device)\n"
   ]
  },
  {
   "cell_type": "markdown",
   "id": "66bbc9fc",
   "metadata": {},
   "source": [
    "Predição"
   ]
  },
  {
   "cell_type": "code",
   "execution_count": null,
   "id": "245616bf",
   "metadata": {},
   "outputs": [
    {
     "name": "stderr",
     "output_type": "stream",
     "text": [
      "c:\\Users\\usuario\\miniconda3\\Lib\\site-packages\\transformers\\models\\vit\\feature_extraction_vit.py:30: FutureWarning: The class ViTFeatureExtractor is deprecated and will be removed in version 5 of Transformers. Please use ViTImageProcessor instead.\n",
      "  warnings.warn(\n"
     ]
    },
    {
     "name": "stdout",
     "output_type": "stream",
     "text": [
      "Região: ['CORPO_INTEIRO'], Espécie: AVE\n"
     ]
    }
   ],
   "source": [
    "\n",
    "with torch.no_grad():\n",
    "    regiao_logits, especie_logits = model(pixel_values)\n",
    "    regiao_pred = torch.argmax(regiao_logits, dim=1).cpu().item()\n",
    "    especie_pred = torch.argmax(especie_logits, dim=1).cpu().item()\n"
   ]
  },
  {
   "cell_type": "markdown",
   "id": "35d6e7b8",
   "metadata": {},
   "source": [
    "Converte para labels legíveis"
   ]
  },
  {
   "cell_type": "code",
   "execution_count": null,
   "id": "3716401f",
   "metadata": {},
   "outputs": [],
   "source": [
    "regiao_label = le_regiao.inverse_transform([regiao_pred])[0]\n",
    "especie_label = le_especie.inverse_transform([especie_pred])[0]\n",
    "\n",
    "print(f\"Região: {regiao_label}, Espécie: {especie_label}\")"
   ]
  }
 ],
 "metadata": {
  "kernelspec": {
   "display_name": "base",
   "language": "python",
   "name": "python3"
  },
  "language_info": {
   "codemirror_mode": {
    "name": "ipython",
    "version": 3
   },
   "file_extension": ".py",
   "mimetype": "text/x-python",
   "name": "python",
   "nbconvert_exporter": "python",
   "pygments_lexer": "ipython3",
   "version": "3.13.3"
  }
 },
 "nbformat": 4,
 "nbformat_minor": 5
}
