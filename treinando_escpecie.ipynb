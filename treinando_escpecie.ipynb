{
 "cells": [
  {
   "cell_type": "markdown",
   "id": "2c69e9e5",
   "metadata": {},
   "source": [
    "# Imports"
   ]
  },
  {
   "cell_type": "code",
   "execution_count": null,
   "id": "81dcd100",
   "metadata": {},
   "outputs": [],
   "source": [
    "import os\n",
    "import pandas as pd\n",
    "from sklearn.model_selection import train_test_split\n",
    "from sklearn.preprocessing import LabelEncoder\n",
    "import joblib\n",
    "import torch\n",
    "from torch.utils.data import Dataset, DataLoader\n",
    "import torch.nn as nn\n",
    "import torch.optim as optim\n",
    "from torchvision import transforms\n",
    "from PIL import Image\n",
    "from transformers import ViTModel, ViTFeatureExtractor\n"
   ]
  },
  {
   "cell_type": "code",
   "execution_count": null,
   "id": "9af96798",
   "metadata": {},
   "outputs": [
    {
     "name": "stderr",
     "output_type": "stream",
     "text": [
      "c:\\Users\\usuario\\miniconda3\\Lib\\site-packages\\transformers\\models\\vit\\feature_extraction_vit.py:30: FutureWarning: The class ViTFeatureExtractor is deprecated and will be removed in version 5 of Transformers. Please use ViTImageProcessor instead.\n",
      "  warnings.warn(\n"
     ]
    }
   ],
   "source": [
    "df = pd.read_excel('Dados para estudo.xlsx')\n"
   ]
  },
  {
   "cell_type": "code",
   "execution_count": null,
   "id": "7bf6786a",
   "metadata": {},
   "outputs": [],
   "source": [
    "df['image_paths'] = df['Imagens'].apply(\n",
    "    lambda x: [os.path.join(r'..\\data\\extracted_images', img.strip()) for img in x.split(',')]\n",
    ")"
   ]
  },
  {
   "cell_type": "markdown",
   "id": "4f39c5e8",
   "metadata": {},
   "source": [
    "VIT"
   ]
  },
  {
   "cell_type": "code",
   "execution_count": null,
   "id": "e6bec46e",
   "metadata": {},
   "outputs": [],
   "source": [
    "feature_extractor = ViTFeatureExtractor.from_pretrained(\"google/vit-base-patch16-224\")"
   ]
  },
  {
   "cell_type": "markdown",
   "id": "b0924ca3",
   "metadata": {},
   "source": [
    "Codificação das labels\n"
   ]
  },
  {
   "cell_type": "code",
   "execution_count": null,
   "id": "12e57733",
   "metadata": {},
   "outputs": [],
   "source": [
    "le_regiao = LabelEncoder()\n",
    "le_especie = LabelEncoder()\n",
    "\n",
    "df['regiao_label'] = le_regiao.fit_transform(df['regiao_corpo'])\n",
    "df['especie_label'] = le_especie.fit_transform(df['Espécie'])\n",
    "\n",
    "train_df, val_df = train_test_split(df, test_size=0.2, random_state=42)"
   ]
  },
  {
   "cell_type": "markdown",
   "id": "0c17e8f4",
   "metadata": {},
   "source": [
    "# Configurando Dataset"
   ]
  },
  {
   "cell_type": "code",
   "execution_count": null,
   "id": "c72e65b8",
   "metadata": {},
   "outputs": [],
   "source": [
    "class MultilabelDataset(Dataset):\n",
    "    def __init__(self, dataframe, feature_extractor, transform=None, max_images=10):\n",
    "        self.data = dataframe\n",
    "        self.feature_extractor = feature_extractor\n",
    "        self.transform = transform\n",
    "        self.max_images = max_images\n",
    "\n",
    "    def __len__(self):\n",
    "        return len(self.data)\n",
    "    \n",
    "    def __getitem__(self, idx):\n",
    "        image_paths = self.data.iloc[idx]['image_paths']\n",
    "        \n",
    "        images = []\n",
    "        for img_path in image_paths[:self.max_images]:  # Truncar se exceder\n",
    "            image = Image.open(img_path).convert('RGB')\n",
    "            if self.transform:\n",
    "                image = self.transform(image)\n",
    "            else:\n",
    "                image = self.feature_extractor(images=image, return_tensors=\"pt\")['pixel_values'].squeeze()\n",
    "            images.append(image)\n",
    "        \n",
    "        n_imgs = len(images)\n",
    "\n",
    "        # Padding com imagens \"em branco\"\n",
    "        if n_imgs < self.max_images:\n",
    "            padding = self.max_images - n_imgs\n",
    "            pad_image = torch.zeros_like(images[0])\n",
    "            images += [pad_image] * padding\n",
    "        \n",
    "        images = torch.stack(images)\n",
    "\n",
    "        regiao = self.data.iloc[idx]['regiao_label']\n",
    "        especie = self.data.iloc[idx]['especie_label']\n",
    "        \n",
    "        return images, torch.tensor(regiao), torch.tensor(especie)\n"
   ]
  },
  {
   "cell_type": "markdown",
   "id": "d285fd51",
   "metadata": {},
   "source": [
    "# Treinando DataSet"
   ]
  },
  {
   "cell_type": "code",
   "execution_count": 4,
   "id": "db47dc5a",
   "metadata": {},
   "outputs": [],
   "source": [
    "train_dataset = MultilabelDataset(train_df, feature_extractor)\n",
    "val_dataset = MultilabelDataset(val_df, feature_extractor)\n",
    "\n",
    "train_loader = DataLoader(train_dataset, batch_size=4, shuffle=True)\n",
    "val_loader = DataLoader(val_dataset, batch_size=4)\n"
   ]
  },
  {
   "cell_type": "markdown",
   "id": "5e870dfb",
   "metadata": {},
   "source": [
    "# Multilabel"
   ]
  },
  {
   "cell_type": "code",
   "execution_count": null,
   "id": "8f5328c9",
   "metadata": {},
   "outputs": [],
   "source": [
    "class ViTMultilabel(nn.Module):\n",
    "    def __init__(self, num_regioes, num_especies):\n",
    "        super(ViTMultilabel, self).__init__()\n",
    "        self.vit = ViTModel.from_pretrained('google/vit-base-patch16-224')\n",
    "        hidden_size = self.vit.config.hidden_size\n",
    "        self.classifier_regiao = nn.Linear(hidden_size, num_regioes)\n",
    "        self.classifier_especie = nn.Linear(hidden_size, num_especies)\n",
    "    \n",
    "    def forward(self, x):\n",
    "        batch_size, n_imgs, C, H, W = x.shape\n",
    "        x = x.view(-1, C, H, W) \n",
    "        \n",
    "        outputs = self.vit(pixel_values=x)\n",
    "        pooled_output = outputs.pooler_output\n",
    "        \n",
    "        # Volta a separar por exame\n",
    "        pooled_output = pooled_output.view(batch_size, n_imgs, -1) \n",
    "        \n",
    "        # Agrega: média das features\n",
    "        agg_output = pooled_output.mean(dim=1)  \n",
    "        \n",
    "        regiao_logits = self.classifier_regiao(agg_output)\n",
    "        especie_logits = self.classifier_especie(agg_output)\n",
    "        \n",
    "        return regiao_logits, especie_logits\n"
   ]
  },
  {
   "cell_type": "markdown",
   "id": "d8ff7621",
   "metadata": {},
   "source": [
    "Device"
   ]
  },
  {
   "cell_type": "code",
   "execution_count": null,
   "id": "0be18598",
   "metadata": {},
   "outputs": [],
   "source": [
    "device = torch.device('cuda' if torch.cuda.is_available() else 'cpu')"
   ]
  },
  {
   "cell_type": "code",
   "execution_count": null,
   "id": "e52cc1b8",
   "metadata": {},
   "outputs": [],
   "source": [
    "\n",
    "model = ViTMultilabel(\n",
    "    num_regioes=len(le_regiao.classes_), \n",
    "    num_especies=len(le_especie.classes_)\n",
    ").to(device)"
   ]
  },
  {
   "cell_type": "markdown",
   "id": "1f26967e",
   "metadata": {},
   "source": [
    "Optimizer"
   ]
  },
  {
   "cell_type": "code",
   "execution_count": null,
   "id": "911b3641",
   "metadata": {},
   "outputs": [],
   "source": [
    "criterion = nn.CrossEntropyLoss()"
   ]
  },
  {
   "cell_type": "code",
   "execution_count": null,
   "id": "800c1256",
   "metadata": {},
   "outputs": [
    {
     "name": "stderr",
     "output_type": "stream",
     "text": [
      "Some weights of ViTModel were not initialized from the model checkpoint at google/vit-base-patch16-224 and are newly initialized: ['pooler.dense.bias', 'pooler.dense.weight']\n",
      "You should probably TRAIN this model on a down-stream task to be able to use it for predictions and inference.\n"
     ]
    }
   ],
   "source": [
    "\n",
    "optimizer = optim.AdamW(model.parameters(), lr=5e-5)\n"
   ]
  },
  {
   "cell_type": "markdown",
   "id": "17fd33bb",
   "metadata": {},
   "source": [
    "# Treino de Modelo"
   ]
  },
  {
   "cell_type": "code",
   "execution_count": 7,
   "id": "bfdb1471",
   "metadata": {},
   "outputs": [
    {
     "name": "stdout",
     "output_type": "stream",
     "text": [
      "Epoch 1/10, Loss: 1.4996\n",
      "Epoch 2/10, Loss: 0.7190\n",
      "Epoch 3/10, Loss: 0.4514\n",
      "Epoch 4/10, Loss: 0.2941\n",
      "Epoch 5/10, Loss: 0.2202\n",
      "Epoch 6/10, Loss: 0.1762\n",
      "Epoch 7/10, Loss: 0.2831\n",
      "Epoch 8/10, Loss: 0.1304\n",
      "Epoch 9/10, Loss: 0.1034\n",
      "Epoch 10/10, Loss: 0.0831\n"
     ]
    }
   ],
   "source": [
    "epochs = 10\n",
    "\n",
    "for epoch in range(epochs):\n",
    "    model.train()\n",
    "    total_loss = 0\n",
    "\n",
    "    for imgs, regiao_labels, especie_labels in train_loader:\n",
    "        imgs = imgs.to(device)\n",
    "        regiao_labels = regiao_labels.to(device)\n",
    "        especie_labels = especie_labels.to(device)\n",
    "        \n",
    "        optimizer.zero_grad()\n",
    "        regiao_out, especie_out = model(imgs)\n",
    "        \n",
    "        loss_regiao = criterion(regiao_out, regiao_labels)\n",
    "        loss_especie = criterion(especie_out, especie_labels)\n",
    "        \n",
    "        loss = loss_regiao + loss_especie\n",
    "        loss.backward()\n",
    "        optimizer.step()\n",
    "        \n",
    "        total_loss += loss.item()\n",
    "    \n",
    "    print(f\"Epoch {epoch+1}/{epochs}, Loss: {total_loss/len(train_loader):.4f}\")\n"
   ]
  },
  {
   "cell_type": "markdown",
   "id": "765891ba",
   "metadata": {},
   "source": [
    "# Validando modelo"
   ]
  },
  {
   "cell_type": "code",
   "execution_count": 8,
   "id": "fd1f8d9e",
   "metadata": {},
   "outputs": [
    {
     "name": "stdout",
     "output_type": "stream",
     "text": [
      "Val Acc Região: 0.96, Espécie: 0.96\n"
     ]
    }
   ],
   "source": [
    "model.eval()\n",
    "correct_regiao = 0\n",
    "correct_especie = 0\n",
    "total = 0\n",
    "\n",
    "with torch.no_grad():\n",
    "    for imgs, regiao_labels, especie_labels in val_loader:\n",
    "        imgs = imgs.to(device)\n",
    "        regiao_labels = regiao_labels.to(device)\n",
    "        especie_labels = especie_labels.to(device)\n",
    "        \n",
    "        regiao_out, especie_out = model(imgs)\n",
    "        \n",
    "        _, pred_regiao = torch.max(regiao_out, 1)\n",
    "        _, pred_especie = torch.max(especie_out, 1)\n",
    "        \n",
    "        correct_regiao += (pred_regiao == regiao_labels).sum().item()\n",
    "        correct_especie += (pred_especie == especie_labels).sum().item()\n",
    "        total += regiao_labels.size(0)\n",
    "\n",
    "print(f\"Val Acc Região: {correct_regiao/total:.2f}, Espécie: {correct_especie/total:.2f}\")\n"
   ]
  },
  {
   "cell_type": "markdown",
   "id": "e1b2e6b7",
   "metadata": {},
   "source": [
    "# Salvando modelo\n"
   ]
  },
  {
   "cell_type": "code",
   "execution_count": 9,
   "id": "d6395442",
   "metadata": {},
   "outputs": [],
   "source": [
    "torch.save(model.state_dict(), 'vit_multilabel_model.pth')"
   ]
  },
  {
   "cell_type": "code",
   "execution_count": 10,
   "id": "7a0cbb67",
   "metadata": {},
   "outputs": [
    {
     "data": {
      "text/plain": [
       "['le_especie.pkl']"
      ]
     },
     "execution_count": 10,
     "metadata": {},
     "output_type": "execute_result"
    }
   ],
   "source": [
    "joblib.dump(le_regiao, 'le_regiao.pkl')\n",
    "joblib.dump(le_especie, 'le_especie.pkl')\n"
   ]
  }
 ],
 "metadata": {
  "kernelspec": {
   "display_name": "base",
   "language": "python",
   "name": "python3"
  },
  "language_info": {
   "codemirror_mode": {
    "name": "ipython",
    "version": 3
   },
   "file_extension": ".py",
   "mimetype": "text/x-python",
   "name": "python",
   "nbconvert_exporter": "python",
   "pygments_lexer": "ipython3",
   "version": "3.13.3"
  }
 },
 "nbformat": 4,
 "nbformat_minor": 5
}
